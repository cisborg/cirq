{
 "cells": [
  {
   "cell_type": "code",
   "execution_count": 10,
   "metadata": {},
   "outputs": [
    {
     "name": "stdout",
     "output_type": "stream",
     "text": [
      "Circuit:                ┌──────────────┐\n",
      "a: ────────────@─────────────────H───────────────M('result_a')───\n",
      "               │\n",
      "b: ───────X────┼M('result_b')────────────────────────────────────\n",
      "          │    │\n",
      "c: ───H───@────X─────────────────M('result_c')───────────────────\n",
      "              └──────────────┘\n"
     ]
    }
   ],
   "source": [
    "import cirq\n",
    "\n",
    "# Creating a simple teleportation algorithm\n",
    "a = cirq.NamedQubit('a')  # qubit to be teleported \n",
    "b = cirq.NamedQubit('b')  # qubit to be teleported to\n",
    "c = cirq.NamedQubit('c')  # the entangled qubit\n",
    "\n",
    "# Create the circuit\n",
    "circuit = cirq.Circuit(\n",
    "    cirq.H(c),    # Create superposition on c\n",
    "    cirq.CNOT(c, b), # Entangle c with b\n",
    "    cirq.CNOT(a, c), # Apply CNOT to qubit a and c\n",
    "    cirq.H(a), # Apply superposition to a\n",
    "    cirq.measure(a, key='result_a'),  # Measure a\n",
    "    cirq.measure(c, key='result_c'),  # Measure c\n",
    "    cirq.measure(b, key='result_b') # Measure b\n",
    ")\n",
    "\n",
    "# Print the circuit\n",
    "print('Circuit: ', circuit)\n",
    "\n",
    "\n"
   ]
  }
 ],
 "metadata": {
  "kernelspec": {
   "display_name": "code",
   "language": "python",
   "name": "python3"
  },
  "language_info": {
   "codemirror_mode": {
    "name": "ipython",
    "version": 3
   },
   "file_extension": ".py",
   "mimetype": "text/x-python",
   "name": "python",
   "nbconvert_exporter": "python",
   "pygments_lexer": "ipython3",
   "version": "3.10.14"
  }
 },
 "nbformat": 4,
 "nbformat_minor": 2
}
