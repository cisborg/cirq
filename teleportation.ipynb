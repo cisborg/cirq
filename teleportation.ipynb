{
 "cells": [
  {
   "cell_type": "code",
   "execution_count": 9,
   "metadata": {},
   "outputs": [
    {
     "name": "stdout",
     "output_type": "stream",
     "text": [
      "Circuit:\n",
      "              ┌──────────────┐\n",
      "a: ────────────@─────────────────H───────────────M('result_a')───\n",
      "               │\n",
      "b: ───────X────┼M('result_b')────────────────────────────────────\n",
      "          │    │\n",
      "c: ───H───@────X─────────────────M('result_c')───────────────────\n",
      "              └──────────────┘\n"
     ]
    },
    {
     "ename": "NameError",
     "evalue": "name 't' is not defined",
     "output_type": "error",
     "traceback": [
      "\u001b[0;31m---------------------------------------------------------------------------\u001b[0m",
      "\u001b[0;31mNameError\u001b[0m                                 Traceback (most recent call last)",
      "Cell \u001b[0;32mIn[9], line 24\u001b[0m\n\u001b[1;32m     21\u001b[0m \u001b[38;5;28mprint\u001b[39m(\u001b[38;5;124m'\u001b[39m\u001b[38;5;124mCircuit:\u001b[39m\u001b[38;5;124m'\u001b[39m)\n\u001b[1;32m     22\u001b[0m \u001b[38;5;28mprint\u001b[39m(circuit)\n\u001b[0;32m---> 24\u001b[0m \u001b[43mt\u001b[49m\n",
      "\u001b[0;31mNameError\u001b[0m: name 't' is not defined"
     ]
    }
   ],
   "source": [
    "import cirq\n",
    "\n",
    "# Creating a simple teleportation algorithm\n",
    "a = cirq.NamedQubit('a')  # qubit to be teleported \n",
    "b = cirq.NamedQubit('b')  # qubit to be teleported to\n",
    "c = cirq.NamedQubit('c')  # the entangled qubit\n",
    "\n",
    "# Create the circuit\n",
    "circuit = cirq.Circuit(\n",
    "    cirq.H(c),    # Create superposition on c\n",
    "    cirq.CNOT(c, b), # Entangle c with b\n",
    "    cirq.CNOT(a, c), # Apply CNOT to qubit a and c\n",
    "    cirq.H(a), # Apply superposition to a\n",
    "    cirq.measure(a, key='result_a'),  # Measure a\n",
    "    cirq.measure(c, key='result_c'),  # Measure c\n",
    "    cirq.measure(b, key='result_b') # Measure b\n",
    ")\n",
    "\n",
    "# Print the circuit\n",
    "print('Circuit: ', circuit)\n",
    "\n",
    "\n"
   ]
  }
 ],
 "metadata": {
  "kernelspec": {
   "display_name": "code",
   "language": "python",
   "name": "python3"
  },
  "language_info": {
   "codemirror_mode": {
    "name": "ipython",
    "version": 3
   },
   "file_extension": ".py",
   "mimetype": "text/x-python",
   "name": "python",
   "nbconvert_exporter": "python",
   "pygments_lexer": "ipython3",
   "version": "3.10.14"
  }
 },
 "nbformat": 4,
 "nbformat_minor": 2
}
