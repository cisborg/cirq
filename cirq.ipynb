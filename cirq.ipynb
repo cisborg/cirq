{
 "cells": [
  {
   "cell_type": "code",
   "execution_count": 1,
   "metadata": {},
   "outputs": [
    {
     "name": "stdout",
     "output_type": "stream",
     "text": [
      "q(0)=0000011111\n",
      "q(1)=0000011111\n"
     ]
    }
   ],
   "source": [
    "import cirq\n",
    "\n",
    "circuit = cirq.Circuit()\n",
    "(q0,q1) = cirq.LineQubit.range(2)\n",
    "circuit.append([cirq.H(q0),  cirq.CNOT(q0,q1)])\n",
    "circuit.append([cirq.measure(q0), cirq.measure(q1)])\n",
    "\n",
    "sim = cirq.Simulator()\n",
    "results = sim.run(circuit, repetitions=10)\n",
    "print(results)\n",
    "\n",
    "\n"
   ]
  }
 ],
 "metadata": {
  "kernelspec": {
   "display_name": "code",
   "language": "python",
   "name": "python3"
  },
  "language_info": {
   "codemirror_mode": {
    "name": "ipython",
    "version": 3
   },
   "file_extension": ".py",
   "mimetype": "text/x-python",
   "name": "python",
   "nbconvert_exporter": "python",
   "pygments_lexer": "ipython3",
   "version": "3.10.12"
  }
 },
 "nbformat": 4,
 "nbformat_minor": 2
}
